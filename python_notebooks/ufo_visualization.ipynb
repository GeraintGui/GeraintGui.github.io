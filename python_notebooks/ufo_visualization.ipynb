{
 "cells": [
  {
   "cell_type": "code",
   "execution_count": null,
   "metadata": {
    "vscode": {
     "languageId": "plaintext"
    }
   },
   "outputs": [],
   "source": [
    "import altair as alt\n",
    "import pandas as pd\n",
    "from vega_datasets import data\n",
    "alt.data_transformers.disable_max_rows()"
   ]
  },
  {
   "cell_type": "code",
   "execution_count": null,
   "metadata": {
    "vscode": {
     "languageId": "plaintext"
    }
   },
   "outputs": [],
   "source": [
    "df = pd.read_csv(\"https://github.com/UIUC-iSchool-DataViz/is445_data/raw/main/ufo-scrubbed-geocoded-time-standardized-00.csv\",\n",
    "                 names=[\"datetime\", \"city\", \"state\", \"country\", \"shape\",\"duration_seconds\", \"duration_hours_min\", \"comments\",\"date_posted\", \"latitude\", \"longitude\"], \n",
    "                 header=0)\n",
    "\n",
    "df['year'] = pd.to_datetime(df['datetime'], errors='coerce').dt.year\n",
    "df_filtered = df.dropna(subset=['year']).copy()\n",
    "df_filtered['year'] = df_filtered['year'].astype(int)\n",
    "yearly_counts = df_filtered.groupby('year').size().reset_index(name='count')\n",
    "year_click = alt.selection_point(fields=['year'], name='Year')"
   ]
  },
  {
   "cell_type": "code",
   "execution_count": null,
   "metadata": {
    "vscode": {
     "languageId": "plaintext"
    }
   },
   "outputs": [],
   "source": [
    "chart1 = alt.Chart(yearly_counts).mark_line(point=True).encode(\n",
    "    x=alt.X('year:O', title='Year'),\n",
    "    y=alt.Y('count:Q', title='Number of UFO Reports'),\n",
    "    tooltip=['year', 'count']\n",
    ").add_params(\n",
    "    year_click\n",
    ").properties(\n",
    "    width=700,\n",
    "    height=300,\n",
    "    title='Number of UFO Reports per Year (click a point to see details)'\n",
    ")"
   ]
  },
  {
   "cell_type": "code",
   "execution_count": null,
   "metadata": {
    "vscode": {
     "languageId": "plaintext"
    }
   },
   "outputs": [],
   "source": [
    "columns_to_show = ['datetime', 'city', 'state', 'country', 'shape', 'duration_seconds', 'comments']\n",
    "\n",
    "\n",
    "df_filtered['summary'] = (\n",
    "    \"[\" + df_filtered['datetime'].astype(str) + \"] \"\n",
    "    + df_filtered['shape'].astype(str) + \" in \" + df_filtered['city'].astype(str)\n",
    "    + \", \" + df_filtered['duration_seconds'].astype(str) + \" sec\"\n",
    ")\n",
    "\n",
    "\n",
    "# 选择需要的列（前 20 条）\n",
    "table_clean = alt.Chart(df_filtered).mark_text(align='left', dx=3).encode(\n",
    "    y=alt.Y('row_number:O', axis=None),\n",
    "    text='summary:N',\n",
    "    tooltip=['datetime', 'city', 'state', 'country', 'shape', 'duration_seconds', 'comments']\n",
    ").transform_filter(\n",
    "    year_click\n",
    ").transform_window(\n",
    "    row_number='row_number()'\n",
    ").transform_filter(\n",
    "    alt.datum.row_number < 20\n",
    ").properties(\n",
    "    width=700,\n",
    "    height=400,\n",
    "    title='Click a Year to See 20 Sample UFO Reports Below'\n",
    ")\n",
    "\n"
   ]
  },
  {
   "cell_type": "code",
   "execution_count": null,
   "metadata": {
    "vscode": {
     "languageId": "plaintext"
    }
   },
   "outputs": [],
   "source": [
    "final_chart = alt.vconcat(chart1, table_clean).configure_view(stroke=None)\n",
    "final_chart.display()"
   ]
  },
  {
   "cell_type": "markdown",
   "metadata": {},
   "source": [
    "**chart2**"
   ]
  },
  {
   "cell_type": "code",
   "execution_count": null,
   "metadata": {
    "vscode": {
     "languageId": "plaintext"
    }
   },
   "outputs": [],
   "source": [
    "state_fips = {\n",
    "    'al': '01', 'ak': '02', 'az': '04', 'ar': '05', 'ca': '06',\n",
    "    'co': '08', 'ct': '09', 'de': '10', 'dc': '11', 'fl': '12',\n",
    "    'ga': '13', 'hi': '15', 'id': '16', 'il': '17', 'in': '18',\n",
    "    'ia': '19', 'ks': '20', 'ky': '21', 'la': '22', 'me': '23',\n",
    "    'md': '24', 'ma': '25', 'mi': '26', 'mn': '27', 'ms': '28',\n",
    "    'mo': '29', 'mt': '30', 'ne': '31', 'nv': '32', 'nh': '33',\n",
    "    'nj': '34', 'nm': '35', 'ny': '36', 'nc': '37', 'nd': '38',\n",
    "    'oh': '39', 'ok': '40', 'or': '41', 'pa': '42', 'ri': '44',\n",
    "    'sc': '45', 'sd': '46', 'tn': '47', 'tx': '48', 'ut': '49',\n",
    "    'vt': '50', 'va': '51', 'wa': '53', 'wv': '54', 'wi': '55',\n",
    "    'wy': '56'\n",
    "}"
   ]
  },
  {
   "cell_type": "code",
   "execution_count": null,
   "metadata": {
    "vscode": {
     "languageId": "plaintext"
    }
   },
   "outputs": [],
   "source": [
    "df_geo = df.dropna(subset=['state']).copy()\n",
    "state_counts = df_geo.groupby('state').size().reset_index(name='count')\n",
    "state_counts['id'] = state_counts['state'].map(state_fips)\n",
    "state_counts = state_counts.dropna(subset=['id']) \n",
    "state_counts['id'] = state_counts['id'].astype(str).str.zfill(2)\n",
    "\n",
    "us_states = alt.topo_feature('https://cdn.jsdelivr.net/npm/us-atlas@3/states-10m.json', 'states')"
   ]
  },
  {
   "cell_type": "code",
   "execution_count": null,
   "metadata": {
    "vscode": {
     "languageId": "plaintext"
    }
   },
   "outputs": [],
   "source": [
    "chart2 = alt.Chart(us_states).mark_geoshape(\n",
    "    stroke='white'\n",
    ").encode(\n",
    "    color=alt.Color('count:Q', scale=alt.Scale(scheme='blues'), title='UFO Reports'),\n",
    "    tooltip=[\n",
    "        alt.Tooltip('id:N', title='State FIPS'),\n",
    "        alt.Tooltip('count:Q', title='Report Count')\n",
    "    ]\n",
    ").transform_lookup(\n",
    "    lookup='id',\n",
    "    from_=alt.LookupData(state_counts, 'id', ['count'])\n",
    ").project(\n",
    "    type='albersUsa'\n",
    ").properties(\n",
    "    title='UFO Sightings by State (Total Count)',\n",
    "    width=700,\n",
    "    height=450\n",
    ")\n",
    "\n",
    "chart2.display()"
   ]
  }
 ],
 "metadata": {
  "language_info": {
   "name": "python"
  }
 },
 "nbformat": 4,
 "nbformat_minor": 2
}
